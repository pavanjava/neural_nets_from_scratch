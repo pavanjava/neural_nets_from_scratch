{
 "cells": [
  {
   "metadata": {
    "ExecuteTime": {
     "end_time": "2025-08-30T08:35:02.892703Z",
     "start_time": "2025-08-30T08:35:02.889901Z"
    }
   },
   "cell_type": "code",
   "source": "import numpy as np",
   "id": "f295d6fc1a8a0e89",
   "outputs": [],
   "execution_count": 5
  },
  {
   "metadata": {
    "ExecuteTime": {
     "end_time": "2025-08-30T15:56:41.742011Z",
     "start_time": "2025-08-30T15:56:41.738849Z"
    }
   },
   "cell_type": "code",
   "source": [
    "class DenseLayer:\n",
    "    def __init__(self, n_inputs, n_neurons):\n",
    "        self.weights = 0.01 * np.random.randn(n_inputs, n_neurons)\n",
    "        self.biases = np.random.randn(n_neurons)\n",
    "\n",
    "    def forward(self, input):\n",
    "        return np.dot(input, self.weights) + self.biases"
   ],
   "id": "27219317554cadaa",
   "outputs": [],
   "execution_count": 20
  },
  {
   "metadata": {
    "ExecuteTime": {
     "end_time": "2025-08-30T15:56:42.467322Z",
     "start_time": "2025-08-30T15:56:42.464724Z"
    }
   },
   "cell_type": "code",
   "source": [
    "from nnfs.datasets import spiral_data\n",
    "import nnfs\n",
    "\n",
    "nnfs.init()"
   ],
   "id": "d07d4b49ee718208",
   "outputs": [],
   "execution_count": 21
  },
  {
   "metadata": {
    "ExecuteTime": {
     "end_time": "2025-08-30T15:56:42.980673Z",
     "start_time": "2025-08-30T15:56:42.977844Z"
    }
   },
   "cell_type": "code",
   "source": [
    "X, y = spiral_data(samples=100, classes=3)\n",
    "d = DenseLayer(2, 3)\n",
    "output = d.forward(X)\n",
    "print(output[:10])\n"
   ],
   "id": "546ebdd2182a5816",
   "outputs": [
    {
     "name": "stdout",
     "output_type": "stream",
     "text": [
      "[[-1.3342584  -1.3467175   0.69377315]\n",
      " [-1.3343632  -1.3466035   0.69372517]\n",
      " [-1.3345326  -1.3464001   0.69368625]\n",
      " [-1.3346803  -1.3461908   0.69371724]\n",
      " [-1.3348355  -1.3460034   0.69368374]\n",
      " [-1.3346127  -1.3463672   0.6935395 ]\n",
      " [-1.3351511  -1.3456407   0.6935786 ]\n",
      " [-1.335192   -1.3456451   0.6934609 ]\n",
      " [-1.3353828  -1.3454062   0.69343686]\n",
      " [-1.3355972  -1.3450974   0.6934921 ]]\n"
     ]
    }
   ],
   "execution_count": 22
  },
  {
   "metadata": {},
   "cell_type": "code",
   "outputs": [],
   "execution_count": null,
   "source": "",
   "id": "56cad8599a307f07"
  }
 ],
 "metadata": {
  "kernelspec": {
   "display_name": "Python 3",
   "language": "python",
   "name": "python3"
  },
  "language_info": {
   "codemirror_mode": {
    "name": "ipython",
    "version": 2
   },
   "file_extension": ".py",
   "mimetype": "text/x-python",
   "name": "python",
   "nbconvert_exporter": "python",
   "pygments_lexer": "ipython2",
   "version": "2.7.6"
  }
 },
 "nbformat": 4,
 "nbformat_minor": 5
}
