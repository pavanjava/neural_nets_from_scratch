{
 "cells": [
  {
   "metadata": {
    "collapsed": true
   },
   "cell_type": "markdown",
   "source": "### Categorical Cross Entropy Loss function",
   "id": "22044b0e83ac194c"
  },
  {
   "metadata": {},
   "cell_type": "markdown",
   "source": [
    "For a single sample:\n",
    "```\n",
    "CCE = -Σ(y_c * log(p_c))\n",
    "```\n",
    "\n",
    "For multiple samples:\n",
    "```\n",
    "CCE = -(1/N) * ΣΣ(y_ic * log(p_ic))\n",
    "```"
   ],
   "id": "4bbf208ef1699aca"
  },
  {
   "metadata": {
    "ExecuteTime": {
     "end_time": "2025-08-31T08:01:02.161298Z",
     "start_time": "2025-08-31T08:01:02.087972Z"
    }
   },
   "cell_type": "code",
   "source": "import numpy as np",
   "id": "7de09773420b775f",
   "outputs": [],
   "execution_count": 1
  },
  {
   "metadata": {},
   "cell_type": "code",
   "outputs": [],
   "execution_count": null,
   "source": [
    "class CategoricalCrossEntropy:\n",
    "    def __init__(self, inputs,  is_batch: bool = False):\n",
    "        self.is_batch = is_batch\n",
    "        self.inputs = inputs\n",
    "\n",
    "    def compute(self):\n",
    "        if self.is_batch:\n",
    "            return\n"
   ],
   "id": "53afc3dfb2d85f30"
  }
 ],
 "metadata": {
  "kernelspec": {
   "display_name": "Python 3",
   "language": "python",
   "name": "python3"
  },
  "language_info": {
   "codemirror_mode": {
    "name": "ipython",
    "version": 2
   },
   "file_extension": ".py",
   "mimetype": "text/x-python",
   "name": "python",
   "nbconvert_exporter": "python",
   "pygments_lexer": "ipython2",
   "version": "2.7.6"
  }
 },
 "nbformat": 4,
 "nbformat_minor": 5
}
