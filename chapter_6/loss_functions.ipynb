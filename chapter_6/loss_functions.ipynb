{
 "cells": [
  {
   "metadata": {
    "collapsed": true
   },
   "cell_type": "markdown",
   "source": "### Categorical Cross Entropy Loss function",
   "id": "22044b0e83ac194c"
  },
  {
   "metadata": {},
   "cell_type": "markdown",
   "source": [
    "For a single sample:\n",
    "```\n",
    "CCE = -Σ(y_c * log(p_c))\n",
    "```\n",
    "\n",
    "For multiple samples:\n",
    "```\n",
    "CCE = -(1/N) * ΣΣ(y_ic * log(p_ic))\n",
    "```"
   ],
   "id": "4bbf208ef1699aca"
  },
  {
   "metadata": {
    "ExecuteTime": {
     "end_time": "2025-09-03T00:00:01.322824Z",
     "start_time": "2025-09-03T00:00:01.237141Z"
    }
   },
   "cell_type": "code",
   "source": "import numpy as np",
   "id": "7de09773420b775f",
   "outputs": [],
   "execution_count": 2
  },
  {
   "metadata": {
    "ExecuteTime": {
     "end_time": "2025-09-03T00:20:20.544232Z",
     "start_time": "2025-09-03T00:20:20.539Z"
    }
   },
   "cell_type": "code",
   "source": [
    "def softmax(x):\n",
    "    # Subtract max for numerical stability\n",
    "    exp_x = np.exp(x - np.max(x, axis=1, keepdims=True))\n",
    "    return exp_x / np.sum(exp_x, axis=1, keepdims=True)\n",
    "\n",
    "class CategoricalCrossEntropy:\n",
    "    def __init__(self, predicted, actual, is_batch: bool = False):\n",
    "        self.is_batch = is_batch\n",
    "        self.predicted = predicted\n",
    "        self.actual = actual\n",
    "\n",
    "    def compute(self):\n",
    "        # Add small epsilon to prevent log(0) and ensure positive values\n",
    "        epsilon = 1e-15\n",
    "        predicted_clipped = np.clip(self.predicted, epsilon, 1 - epsilon)\n",
    "        if self.is_batch:\n",
    "            # Compute loss for each sample separately, then return all losses\n",
    "            losses = -np.sum(self.actual * np.log(predicted_clipped), axis=1, keepdims=True)\n",
    "            return losses\n",
    "        else:\n",
    "            return -np.sum(self.actual * np.log(predicted_clipped), keepdims=True)\n",
    "\n",
    "raw = np.random.randn(2,3)\n",
    "a = np.array([[1,0,0],[1,0,0]])\n",
    "print(raw)\n",
    "print(a)\n",
    "\n",
    "p = softmax(raw)\n",
    "print(p)\n",
    "\n",
    "c = CategoricalCrossEntropy(predicted=p, actual=a, is_batch=True)\n",
    "print(c.compute())\n"
   ],
   "id": "53afc3dfb2d85f30",
   "outputs": [
    {
     "name": "stdout",
     "output_type": "stream",
     "text": [
      "[[-3.05385172  1.08050068  0.42438593]\n",
      " [-0.5935367   0.89054803  0.06414276]]\n",
      "[[1 0 0]\n",
      " [1 0 0]]\n",
      "[[0.01043278 0.65151827 0.33804894]\n",
      " [0.13621688 0.60084262 0.2629405 ]]\n",
      "[[4.56280223]\n",
      " [1.99350697]]\n"
     ]
    }
   ],
   "execution_count": 20
  },
  {
   "metadata": {
    "ExecuteTime": {
     "end_time": "2025-09-03T00:10:18.168178Z",
     "start_time": "2025-09-03T00:10:18.166837Z"
    }
   },
   "cell_type": "code",
   "source": "",
   "id": "409b6a9decd54c77",
   "outputs": [],
   "execution_count": 12
  },
  {
   "metadata": {},
   "cell_type": "code",
   "outputs": [],
   "execution_count": null,
   "source": "",
   "id": "cdc539a73c10d660"
  }
 ],
 "metadata": {
  "kernelspec": {
   "display_name": "Python 3",
   "language": "python",
   "name": "python3"
  },
  "language_info": {
   "codemirror_mode": {
    "name": "ipython",
    "version": 2
   },
   "file_extension": ".py",
   "mimetype": "text/x-python",
   "name": "python",
   "nbconvert_exporter": "python",
   "pygments_lexer": "ipython2",
   "version": "2.7.6"
  }
 },
 "nbformat": 4,
 "nbformat_minor": 5
}
